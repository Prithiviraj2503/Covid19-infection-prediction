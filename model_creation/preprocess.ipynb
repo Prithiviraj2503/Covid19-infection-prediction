{
 "cells": [
  {
   "cell_type": "code",
   "execution_count": null,
   "metadata": {},
   "outputs": [],
   "source": [
    "#import necessary libraries\n",
    "import pandas as pd\n",
    "\n",
    "#read data\n",
    "data=pd.read_csv(\"../dataset/covidsymp.csv\")\n",
    "data.head(3)"
   ]
  },
  {
   "cell_type": "markdown",
   "metadata": {},
   "source": [
    "## EDA"
   ]
  },
  {
   "cell_type": "code",
   "execution_count": null,
   "metadata": {
    "scrolled": false
   },
   "outputs": [],
   "source": [
    "data.info()"
   ]
  },
  {
   "cell_type": "markdown",
   "metadata": {},
   "source": [
    "Total number of column: 14\n",
    "Total number of Records: 892\n",
    "\n",
    "reporting date - when the patient reported on the hospital           \n",
    "location  - state           \n",
    "country  - name of the country                \n",
    "gender  -  patient gender                \n",
    "age     - age of the patient               \n",
    "symptom_onset  - when symtoms start         \n",
    "If_onset_approximated \n",
    "hosp_visit_date - when come to hospital\n",
    "exposure_start - when symptoms exposed\n",
    "exposure_end - when symptoms end\n",
    "Nearby Covid zone - is nearby covid zone\n",
    "from covid zone  - is living in covid zone                     \n",
    "symptom  - symptoms experienced by the patient\n",
    "confirmed- target label"
   ]
  },
  {
   "cell_type": "code",
   "execution_count": null,
   "metadata": {
    "scrolled": true
   },
   "outputs": [],
   "source": [
    "data.describe()"
   ]
  },
  {
   "cell_type": "code",
   "execution_count": null,
   "metadata": {},
   "outputs": [],
   "source": [
    "data.isna().sum()"
   ]
  },
  {
   "cell_type": "markdown",
   "metadata": {},
   "source": [
    "## Pre-Processing"
   ]
  },
  {
   "cell_type": "code",
   "execution_count": null,
   "metadata": {},
   "outputs": [],
   "source": [
    "data=data.drop(['reporting date','location','country','symptom_onset','hosp_visit_date','exposure_start','exposure_end'], axis=1)"
   ]
  },
  {
   "cell_type": "code",
   "execution_count": null,
   "metadata": {},
   "outputs": [],
   "source": [
    "data['gender'] = data['gender'].map( {'male':1, 'female':0})\n",
    "data['Confirmed'] = data['Confirmed'].map( {'negative':0, 'may infected':1, 'positive':1} )"
   ]
  },
  {
   "cell_type": "code",
   "execution_count": null,
   "metadata": {},
   "outputs": [],
   "source": [
    "#onehot encoding\n",
    "data= pd.concat([data.drop('symptom', 1), data['symptom'].str.get_dummies(sep=\",\")], 1)"
   ]
  },
  {
   "cell_type": "code",
   "execution_count": null,
   "metadata": {},
   "outputs": [],
   "source": [
    "data.head(5)"
   ]
  },
  {
   "cell_type": "code",
   "execution_count": null,
   "metadata": {},
   "outputs": [],
   "source": [
    "data.columns"
   ]
  },
  {
   "cell_type": "code",
   "execution_count": null,
   "metadata": {},
   "outputs": [],
   "source": [
    "data.isna().sum()"
   ]
  },
  {
   "cell_type": "code",
   "execution_count": null,
   "metadata": {},
   "outputs": [],
   "source": [
    "from sklearn.impute import KNNImputer\n",
    "from numpy import isnan\n",
    "\n",
    "# define imputer\n",
    "imputer = KNNImputer()\n",
    "# fit on the dataset\n",
    "imputer.fit(data)\n",
    "# transform the dataset\n",
    "Xtrans = imputer.transform(data)"
   ]
  },
  {
   "cell_type": "code",
   "execution_count": null,
   "metadata": {},
   "outputs": [],
   "source": [
    "Xtrans"
   ]
  },
  {
   "cell_type": "code",
   "execution_count": null,
   "metadata": {},
   "outputs": [],
   "source": [
    "col_values = ['gender', 'age', 'If_onset_approximated', 'Nearby Covid zone',\n",
    "       'from covid zone', 'Confirmed', ' abdominal pain', ' breathlessness',\n",
    "       ' chest pain', ' chill', ' chills', ' cold', ' cough', ' coughing',\n",
    "       ' diarrhea', ' difficult in breathing', ' difficulty breathing',\n",
    "       ' dyspnea', ' fatigue', ' fever', ' headache', ' heavy head',\n",
    "       ' itchy throat', ' joint pain', ' loss of appetite', ' malaise',\n",
    "       ' muscle aches', ' muscle pain', ' myalgia', ' nasal discharge',\n",
    "       ' nausea', ' pneumonia', ' respiratory distress',\n",
    "       ' respiratory symptoms', ' runny nose', ' shortness of breath',\n",
    "       ' sneeze', ' sore throat', ' sputum', ' thirst', ' throat discomfort',\n",
    "       ' vomiting', 'chest discomfort', 'chills', 'cold', 'cough',\n",
    "       'cough with sputum', 'difficulty breathing', 'fatigue', 'feaver',\n",
    "       'feve', 'fever', 'headache', 'joint pain', 'malaise', 'mild cough',\n",
    "       'myalgia', 'nausea', 'physical discomfort', 'reflux',\n",
    "       'respiratory symptoms', 'runny nose', 'sore throat',\n",
    "       'throat discomfort', 'throat pain', 'vomiting'] "
   ]
  },
  {
   "cell_type": "code",
   "execution_count": null,
   "metadata": {},
   "outputs": [],
   "source": [
    "# creating the dataframe \n",
    "dataframe = pd.DataFrame(data = Xtrans,    \n",
    "                  columns = col_values)"
   ]
  },
  {
   "cell_type": "code",
   "execution_count": null,
   "metadata": {},
   "outputs": [],
   "source": [
    "dataframe.isna().sum()"
   ]
  },
  {
   "cell_type": "code",
   "execution_count": null,
   "metadata": {},
   "outputs": [],
   "source": [
    "#dataframe.to_excel(\"preprocessed.xlsx\")"
   ]
  },
  {
   "cell_type": "code",
   "execution_count": 13,
   "metadata": {},
   "outputs": [],
   "source": [
    "import pandas as pd\n",
    "\n",
    "df=pd.read_csv(\"../dataset/training.csv\")"
   ]
  },
  {
   "cell_type": "code",
   "execution_count": 14,
   "metadata": {},
   "outputs": [
    {
     "data": {
      "text/plain": [
       "age                                            1\n",
       "gender                                         1\n",
       "from_covid_zone                                0\n",
       "symptom_chest discomfort                       1\n",
       "symptom_chills                                 1\n",
       "                                              ..\n",
       "symptom_throat pain, fever                     1\n",
       "symptom_tired                                  1\n",
       "symptom_vomiting, cough, fever, sore throat    1\n",
       "symptom_vomiting, diarrhea, fever, cough       1\n",
       "result                                         1\n",
       "Length: 112, dtype: int64"
      ]
     },
     "execution_count": 14,
     "metadata": {},
     "output_type": "execute_result"
    }
   ],
   "source": [
    "df.isna().sum()"
   ]
  },
  {
   "cell_type": "code",
   "execution_count": 15,
   "metadata": {},
   "outputs": [],
   "source": [
    "from sklearn.impute import KNNImputer\n",
    "from numpy import isnan\n",
    "\n",
    "# define imputer\n",
    "imputer = KNNImputer()\n",
    "# fit on the dataset\n",
    "imputer.fit(df)\n",
    "# transform the dataset\n",
    "Xtrans = imputer.transform(df)"
   ]
  },
  {
   "cell_type": "code",
   "execution_count": 17,
   "metadata": {},
   "outputs": [],
   "source": [
    "col_values=df.columns"
   ]
  },
  {
   "cell_type": "code",
   "execution_count": 18,
   "metadata": {},
   "outputs": [],
   "source": [
    "dataframe = pd.DataFrame(data = Xtrans,    \n",
    "                  columns = col_values)"
   ]
  },
  {
   "cell_type": "code",
   "execution_count": 19,
   "metadata": {},
   "outputs": [
    {
     "data": {
      "text/html": [
       "<div>\n",
       "<style scoped>\n",
       "    .dataframe tbody tr th:only-of-type {\n",
       "        vertical-align: middle;\n",
       "    }\n",
       "\n",
       "    .dataframe tbody tr th {\n",
       "        vertical-align: top;\n",
       "    }\n",
       "\n",
       "    .dataframe thead th {\n",
       "        text-align: right;\n",
       "    }\n",
       "</style>\n",
       "<table border=\"1\" class=\"dataframe\">\n",
       "  <thead>\n",
       "    <tr style=\"text-align: right;\">\n",
       "      <th></th>\n",
       "      <th>age</th>\n",
       "      <th>gender</th>\n",
       "      <th>from_covid_zone</th>\n",
       "      <th>symptom_chest discomfort</th>\n",
       "      <th>symptom_chills</th>\n",
       "      <th>symptom_cold, fever, pneumonia</th>\n",
       "      <th>symptom_cough</th>\n",
       "      <th>symptom_cough with sputum</th>\n",
       "      <th>symptom_cough, chest pain</th>\n",
       "      <th>symptom_cough, chill, muscle pain</th>\n",
       "      <th>...</th>\n",
       "      <th>symptom_sore throat, fever, diarrhea</th>\n",
       "      <th>symptom_sore throat, fever, joint pain, dyspnea</th>\n",
       "      <th>symptom_throat discomfort</th>\n",
       "      <th>symptom_throat discomfort, cough, chest pain</th>\n",
       "      <th>symptom_throat pain, chills</th>\n",
       "      <th>symptom_throat pain, fever</th>\n",
       "      <th>symptom_tired</th>\n",
       "      <th>symptom_vomiting, cough, fever, sore throat</th>\n",
       "      <th>symptom_vomiting, diarrhea, fever, cough</th>\n",
       "      <th>result</th>\n",
       "    </tr>\n",
       "  </thead>\n",
       "  <tbody>\n",
       "    <tr>\n",
       "      <td>0</td>\n",
       "      <td>66.0</td>\n",
       "      <td>1.0</td>\n",
       "      <td>0.0</td>\n",
       "      <td>0.0</td>\n",
       "      <td>0.0</td>\n",
       "      <td>0.0</td>\n",
       "      <td>0.0</td>\n",
       "      <td>0.0</td>\n",
       "      <td>0.0</td>\n",
       "      <td>0.0</td>\n",
       "      <td>...</td>\n",
       "      <td>0.0</td>\n",
       "      <td>0.0</td>\n",
       "      <td>0.0</td>\n",
       "      <td>0.0</td>\n",
       "      <td>0.0</td>\n",
       "      <td>0.0</td>\n",
       "      <td>0.0</td>\n",
       "      <td>0.0</td>\n",
       "      <td>0.0</td>\n",
       "      <td>0.0</td>\n",
       "    </tr>\n",
       "    <tr>\n",
       "      <td>1</td>\n",
       "      <td>56.0</td>\n",
       "      <td>0.0</td>\n",
       "      <td>1.0</td>\n",
       "      <td>0.0</td>\n",
       "      <td>0.0</td>\n",
       "      <td>0.0</td>\n",
       "      <td>0.0</td>\n",
       "      <td>0.0</td>\n",
       "      <td>0.0</td>\n",
       "      <td>0.0</td>\n",
       "      <td>...</td>\n",
       "      <td>0.0</td>\n",
       "      <td>0.0</td>\n",
       "      <td>0.0</td>\n",
       "      <td>0.0</td>\n",
       "      <td>0.0</td>\n",
       "      <td>0.0</td>\n",
       "      <td>0.0</td>\n",
       "      <td>0.0</td>\n",
       "      <td>0.0</td>\n",
       "      <td>0.0</td>\n",
       "    </tr>\n",
       "  </tbody>\n",
       "</table>\n",
       "<p>2 rows × 112 columns</p>\n",
       "</div>"
      ],
      "text/plain": [
       "    age  gender  from_covid_zone  symptom_chest discomfort  symptom_chills  \\\n",
       "0  66.0     1.0              0.0                       0.0             0.0   \n",
       "1  56.0     0.0              1.0                       0.0             0.0   \n",
       "\n",
       "   symptom_cold, fever, pneumonia  symptom_cough  symptom_cough with sputum  \\\n",
       "0                             0.0            0.0                        0.0   \n",
       "1                             0.0            0.0                        0.0   \n",
       "\n",
       "   symptom_cough, chest pain  symptom_cough, chill, muscle pain  ...  \\\n",
       "0                        0.0                                0.0  ...   \n",
       "1                        0.0                                0.0  ...   \n",
       "\n",
       "   symptom_sore throat, fever, diarrhea  \\\n",
       "0                                   0.0   \n",
       "1                                   0.0   \n",
       "\n",
       "   symptom_sore throat, fever, joint pain, dyspnea  symptom_throat discomfort  \\\n",
       "0                                              0.0                        0.0   \n",
       "1                                              0.0                        0.0   \n",
       "\n",
       "   symptom_throat discomfort, cough, chest pain  symptom_throat pain, chills  \\\n",
       "0                                           0.0                          0.0   \n",
       "1                                           0.0                          0.0   \n",
       "\n",
       "   symptom_throat pain, fever  symptom_tired  \\\n",
       "0                         0.0            0.0   \n",
       "1                         0.0            0.0   \n",
       "\n",
       "   symptom_vomiting, cough, fever, sore throat  \\\n",
       "0                                          0.0   \n",
       "1                                          0.0   \n",
       "\n",
       "   symptom_vomiting, diarrhea, fever, cough  result  \n",
       "0                                       0.0     0.0  \n",
       "1                                       0.0     0.0  \n",
       "\n",
       "[2 rows x 112 columns]"
      ]
     },
     "execution_count": 19,
     "metadata": {},
     "output_type": "execute_result"
    }
   ],
   "source": [
    "dataframe.head(2)"
   ]
  },
  {
   "cell_type": "code",
   "execution_count": 20,
   "metadata": {},
   "outputs": [
    {
     "data": {
      "text/plain": [
       "age                                            0\n",
       "gender                                         0\n",
       "from_covid_zone                                0\n",
       "symptom_chest discomfort                       0\n",
       "symptom_chills                                 0\n",
       "                                              ..\n",
       "symptom_throat pain, fever                     0\n",
       "symptom_tired                                  0\n",
       "symptom_vomiting, cough, fever, sore throat    0\n",
       "symptom_vomiting, diarrhea, fever, cough       0\n",
       "result                                         0\n",
       "Length: 112, dtype: int64"
      ]
     },
     "execution_count": 20,
     "metadata": {},
     "output_type": "execute_result"
    }
   ],
   "source": [
    "dataframe.isna().sum()"
   ]
  },
  {
   "cell_type": "code",
   "execution_count": 21,
   "metadata": {},
   "outputs": [],
   "source": [
    "dataframe.to_csv(\"../dataset/training.csv\")"
   ]
  }
 ],
 "metadata": {
  "kernelspec": {
   "display_name": "Python 3",
   "language": "python",
   "name": "python3"
  },
  "language_info": {
   "codemirror_mode": {
    "name": "ipython",
    "version": 3
   },
   "file_extension": ".py",
   "mimetype": "text/x-python",
   "name": "python",
   "nbconvert_exporter": "python",
   "pygments_lexer": "ipython3",
   "version": "3.7.4"
  }
 },
 "nbformat": 4,
 "nbformat_minor": 2
}
