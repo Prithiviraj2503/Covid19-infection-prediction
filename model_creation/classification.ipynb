{
 "cells": [
  {
   "cell_type": "code",
   "execution_count": 2,
   "metadata": {},
   "outputs": [],
   "source": [
    "import pandas as pd\n",
    "\n",
    "df=pd.read_csv(\"../dataset/training.csv\")"
   ]
  },
  {
   "cell_type": "code",
   "execution_count": 3,
   "metadata": {},
   "outputs": [
    {
     "data": {
      "text/html": [
       "<div>\n",
       "<style scoped>\n",
       "    .dataframe tbody tr th:only-of-type {\n",
       "        vertical-align: middle;\n",
       "    }\n",
       "\n",
       "    .dataframe tbody tr th {\n",
       "        vertical-align: top;\n",
       "    }\n",
       "\n",
       "    .dataframe thead th {\n",
       "        text-align: right;\n",
       "    }\n",
       "</style>\n",
       "<table border=\"1\" class=\"dataframe\">\n",
       "  <thead>\n",
       "    <tr style=\"text-align: right;\">\n",
       "      <th></th>\n",
       "      <th>age</th>\n",
       "      <th>gender</th>\n",
       "      <th>from_covid_zone</th>\n",
       "      <th>symptom_chest discomfort</th>\n",
       "      <th>symptom_chills</th>\n",
       "      <th>symptom_cold, fever, pneumonia</th>\n",
       "      <th>symptom_cough</th>\n",
       "      <th>symptom_cough with sputum</th>\n",
       "      <th>symptom_cough, chest pain</th>\n",
       "      <th>symptom_cough, chill, muscle pain</th>\n",
       "      <th>...</th>\n",
       "      <th>symptom_sore throat, fever, diarrhea</th>\n",
       "      <th>symptom_sore throat, fever, joint pain, dyspnea</th>\n",
       "      <th>symptom_throat discomfort</th>\n",
       "      <th>symptom_throat discomfort, cough, chest pain</th>\n",
       "      <th>symptom_throat pain, chills</th>\n",
       "      <th>symptom_throat pain, fever</th>\n",
       "      <th>symptom_tired</th>\n",
       "      <th>symptom_vomiting, cough, fever, sore throat</th>\n",
       "      <th>symptom_vomiting, diarrhea, fever, cough</th>\n",
       "      <th>result</th>\n",
       "    </tr>\n",
       "  </thead>\n",
       "  <tbody>\n",
       "    <tr>\n",
       "      <td>0</td>\n",
       "      <td>66.0</td>\n",
       "      <td>1.0</td>\n",
       "      <td>0</td>\n",
       "      <td>0</td>\n",
       "      <td>0</td>\n",
       "      <td>0</td>\n",
       "      <td>0.0</td>\n",
       "      <td>0</td>\n",
       "      <td>0</td>\n",
       "      <td>0</td>\n",
       "      <td>...</td>\n",
       "      <td>0</td>\n",
       "      <td>0</td>\n",
       "      <td>0</td>\n",
       "      <td>0</td>\n",
       "      <td>0</td>\n",
       "      <td>0</td>\n",
       "      <td>0</td>\n",
       "      <td>0</td>\n",
       "      <td>0</td>\n",
       "      <td>0</td>\n",
       "    </tr>\n",
       "    <tr>\n",
       "      <td>1</td>\n",
       "      <td>56.0</td>\n",
       "      <td>0.0</td>\n",
       "      <td>1</td>\n",
       "      <td>0</td>\n",
       "      <td>0</td>\n",
       "      <td>0</td>\n",
       "      <td>0.0</td>\n",
       "      <td>0</td>\n",
       "      <td>0</td>\n",
       "      <td>0</td>\n",
       "      <td>...</td>\n",
       "      <td>0</td>\n",
       "      <td>0</td>\n",
       "      <td>0</td>\n",
       "      <td>0</td>\n",
       "      <td>0</td>\n",
       "      <td>0</td>\n",
       "      <td>0</td>\n",
       "      <td>0</td>\n",
       "      <td>0</td>\n",
       "      <td>0</td>\n",
       "    </tr>\n",
       "    <tr>\n",
       "      <td>2</td>\n",
       "      <td>46.0</td>\n",
       "      <td>1.0</td>\n",
       "      <td>1</td>\n",
       "      <td>0</td>\n",
       "      <td>0</td>\n",
       "      <td>0</td>\n",
       "      <td>0.0</td>\n",
       "      <td>0</td>\n",
       "      <td>0</td>\n",
       "      <td>0</td>\n",
       "      <td>...</td>\n",
       "      <td>0</td>\n",
       "      <td>0</td>\n",
       "      <td>0</td>\n",
       "      <td>0</td>\n",
       "      <td>0</td>\n",
       "      <td>0</td>\n",
       "      <td>0</td>\n",
       "      <td>0</td>\n",
       "      <td>0</td>\n",
       "      <td>0</td>\n",
       "    </tr>\n",
       "  </tbody>\n",
       "</table>\n",
       "<p>3 rows × 112 columns</p>\n",
       "</div>"
      ],
      "text/plain": [
       "    age  gender  from_covid_zone  symptom_chest discomfort  symptom_chills  \\\n",
       "0  66.0     1.0                0                         0               0   \n",
       "1  56.0     0.0                1                         0               0   \n",
       "2  46.0     1.0                1                         0               0   \n",
       "\n",
       "   symptom_cold, fever, pneumonia  symptom_cough  symptom_cough with sputum  \\\n",
       "0                               0            0.0                          0   \n",
       "1                               0            0.0                          0   \n",
       "2                               0            0.0                          0   \n",
       "\n",
       "   symptom_cough, chest pain  symptom_cough, chill, muscle pain  ...  \\\n",
       "0                          0                                  0  ...   \n",
       "1                          0                                  0  ...   \n",
       "2                          0                                  0  ...   \n",
       "\n",
       "   symptom_sore throat, fever, diarrhea  \\\n",
       "0                                     0   \n",
       "1                                     0   \n",
       "2                                     0   \n",
       "\n",
       "   symptom_sore throat, fever, joint pain, dyspnea  symptom_throat discomfort  \\\n",
       "0                                                0                          0   \n",
       "1                                                0                          0   \n",
       "2                                                0                          0   \n",
       "\n",
       "   symptom_throat discomfort, cough, chest pain  symptom_throat pain, chills  \\\n",
       "0                                             0                            0   \n",
       "1                                             0                            0   \n",
       "2                                             0                            0   \n",
       "\n",
       "   symptom_throat pain, fever  symptom_tired  \\\n",
       "0                           0              0   \n",
       "1                           0              0   \n",
       "2                           0              0   \n",
       "\n",
       "   symptom_vomiting, cough, fever, sore throat  \\\n",
       "0                                            0   \n",
       "1                                            0   \n",
       "2                                            0   \n",
       "\n",
       "   symptom_vomiting, diarrhea, fever, cough  result  \n",
       "0                                         0       0  \n",
       "1                                         0       0  \n",
       "2                                         0       0  \n",
       "\n",
       "[3 rows x 112 columns]"
      ]
     },
     "execution_count": 3,
     "metadata": {},
     "output_type": "execute_result"
    }
   ],
   "source": [
    "df.head(3)"
   ]
  },
  {
   "cell_type": "code",
   "execution_count": 4,
   "metadata": {},
   "outputs": [
    {
     "name": "stdout",
     "output_type": "stream",
     "text": [
      "<class 'pandas.core.frame.DataFrame'>\n",
      "RangeIndex: 1085 entries, 0 to 1084\n",
      "Columns: 112 entries, age to result\n",
      "dtypes: float64(5), int64(107)\n",
      "memory usage: 949.5 KB\n"
     ]
    }
   ],
   "source": [
    "df.info()"
   ]
  },
  {
   "cell_type": "code",
   "execution_count": 5,
   "metadata": {},
   "outputs": [],
   "source": [
    "target=df['result']\n",
    "feat=df.drop(['result'], axis=1)"
   ]
  },
  {
   "cell_type": "code",
   "execution_count": 6,
   "metadata": {},
   "outputs": [
    {
     "name": "stderr",
     "output_type": "stream",
     "text": [
      "C:\\ProgramData\\Anaconda3\\lib\\site-packages\\sklearn\\utils\\validation.py:72: FutureWarning: Pass n_features_to_select=15 as keyword args. From version 1.0 (renaming of 0.25) passing these as positional arguments will result in an error\n",
      "  \"will result in an error\", FutureWarning)\n",
      "C:\\ProgramData\\Anaconda3\\lib\\site-packages\\sklearn\\linear_model\\_logistic.py:765: ConvergenceWarning: lbfgs failed to converge (status=1):\n",
      "STOP: TOTAL NO. of ITERATIONS REACHED LIMIT.\n",
      "\n",
      "Increase the number of iterations (max_iter) or scale the data as shown in:\n",
      "    https://scikit-learn.org/stable/modules/preprocessing.html\n",
      "Please also refer to the documentation for alternative solver options:\n",
      "    https://scikit-learn.org/stable/modules/linear_model.html#logistic-regression\n",
      "  extra_warning_msg=_LOGISTIC_SOLVER_CONVERGENCE_MSG)\n"
     ]
    },
    {
     "name": "stdout",
     "output_type": "stream",
     "text": [
      "Num Features: 15\n",
      "Selected Features: [False False False False False  True  True False False False False  True\n",
      " False False False False False False False False False False False  True\n",
      " False False False False False  True  True False False False False False\n",
      " False False  True False  True False False False False False False  True\n",
      " False False False False False False False False False False False False\n",
      "  True False False False False False False False False False False False\n",
      " False False  True False False False False False False False False False\n",
      " False False False False False False False  True False False False False\n",
      " False False False  True False  True False False False False False False\n",
      "  True False False]\n",
      "Feature Ranking: [97 23 11 41  7  1  1 65 64 77 38  1 36  3 84 85 45 31 78 24 30 20 59  1\n",
      " 70 35 66 67 39  1  1 49 43 27 91 28 79 60  1 82  1 50 51 88 37 25 96  1\n",
      " 72  2 14  8  9 62 92 12 95 18 29 19  1 26 52 13 40 57 34 61  5 21 46 90\n",
      " 55 71  1 56 17  4 81 76 54 89 47 86 48 16 75  6 58 83 87  1 80 22 32 42\n",
      " 74 15 10  1 93  1 68 44 33 69 73 53  1 63 94]\n"
     ]
    }
   ],
   "source": [
    "from sklearn.feature_selection import RFE\n",
    "from sklearn.linear_model import LogisticRegression\n",
    "\n",
    "model = LogisticRegression(solver='lbfgs')\n",
    "rfe = RFE(model, 15)\n",
    "fit = rfe.fit(feat, target)\n",
    "print(\"Num Features: %d\" % fit.n_features_)\n",
    "print(\"Selected Features: %s\" % fit.support_)\n",
    "print(\"Feature Ranking: %s\" % fit.ranking_)"
   ]
  },
  {
   "cell_type": "code",
   "execution_count": 7,
   "metadata": {},
   "outputs": [
    {
     "data": {
      "text/plain": [
       "list"
      ]
     },
     "execution_count": 7,
     "metadata": {},
     "output_type": "execute_result"
    }
   ],
   "source": [
    "values = [97,23,11,41 ,7,1,1 ,65, 64, 77, 38,  1, 36,  3, 84, 85, 45, 31, 78, 24, 30, 20, 59,  1,\n",
    " 70, 35, 66, 67, 39,  1,  1, 49, 43, 27, 91, 28, 79, 60,  1, 82,  1,50, 51, 88, 37, 25, 96,  1,\n",
    " 72,  2, 14,  8,  9, 62, 92, 12, 95, 18, 29, 19,  1, 26, 52, 13, 40, 57, 34, 61,  5, 21, 46, 90,\n",
    " 55, 71,  1, 56, 17,  4, 81, 76, 54, 89, 47, 86, 48 ,16, 75,  6, 58, 83, 87,  1, 80, 22, 32, 42,\n",
    " 74, 15, 10,  1 ,93,  1, 68, 44, 33, 69, 73, 53,  1, 63, 94]\n",
    "\n",
    "vals=list(values)\n",
    "type(vals)"
   ]
  },
  {
   "cell_type": "code",
   "execution_count": 8,
   "metadata": {},
   "outputs": [
    {
     "data": {
      "text/plain": [
       "list"
      ]
     },
     "execution_count": 8,
     "metadata": {},
     "output_type": "execute_result"
    }
   ],
   "source": [
    "keys=df.columns\n",
    "key=list(keys)\n",
    "type(key)"
   ]
  },
  {
   "cell_type": "code",
   "execution_count": 9,
   "metadata": {},
   "outputs": [],
   "source": [
    "res = dict(zip(key, vals))"
   ]
  },
  {
   "cell_type": "code",
   "execution_count": 10,
   "metadata": {},
   "outputs": [
    {
     "data": {
      "text/plain": [
       "{'age': 97,\n",
       " 'gender': 23,\n",
       " 'from_covid_zone': 11,\n",
       " 'symptom_chest discomfort': 41,\n",
       " 'symptom_chills': 7,\n",
       " 'symptom_cold, fever, pneumonia': 1,\n",
       " 'symptom_cough': 1,\n",
       " 'symptom_cough with sputum': 65,\n",
       " 'symptom_cough, chest pain': 64,\n",
       " 'symptom_cough, chill, muscle pain': 77,\n",
       " 'symptom_cough, chills, joint pain': 38,\n",
       " 'symptom_cough, chills, shortness of breath, diarrhea': 1,\n",
       " 'symptom_cough, diarrhea, vomiting': 36,\n",
       " 'symptom_cough, fever': 3,\n",
       " 'symptom_cough, fever, chills': 84,\n",
       " 'symptom_cough, fever, headache, nausea, vomiting, diarrhea': 85,\n",
       " 'symptom_cough, fever, joint pain': 45,\n",
       " 'symptom_cough, itchy throat': 31,\n",
       " 'symptom_cough, joint pain': 78,\n",
       " 'symptom_cough, malaise': 24,\n",
       " 'symptom_cough, malaise, shortness of breath': 30,\n",
       " 'symptom_cough, runny nose': 20,\n",
       " 'symptom_cough, runny nose, diarrhea': 59,\n",
       " 'symptom_cough, shortness of breath': 1,\n",
       " 'symptom_cough, sneeze': 70,\n",
       " 'symptom_cough, sore throat': 35,\n",
       " 'symptom_cough, sputum': 66,\n",
       " 'symptom_cough, sputum, dyspnea': 67,\n",
       " 'symptom_cough, sputum, sore throat': 39,\n",
       " 'symptom_difficulty breathing': 1,\n",
       " 'symptom_fatigue': 1,\n",
       " 'symptom_fatigue, cold, fever, vomiting': 49,\n",
       " 'symptom_fatigue, difficulty breathing': 43,\n",
       " 'symptom_fatigue, fever': 27,\n",
       " 'symptom_fatigue, joint pain, fever': 91,\n",
       " 'symptom_fatigue, loss of appetite': 28,\n",
       " 'symptom_fatigue, malaise, headache': 79,\n",
       " 'symptom_fatigue, muscle pain, joint pain, fever': 60,\n",
       " 'symptom_feaver, cough, difficult in breathing': 1,\n",
       " 'symptom_feve\\\\': 82,\n",
       " 'symptom_fever': 1,\n",
       " 'symptom_fever, abdominal pain, diarrhea': 50,\n",
       " 'symptom_fever, breathlessness, malaise': 51,\n",
       " 'symptom_fever, chills, joint pain, heavy head': 88,\n",
       " 'symptom_fever, chills, muscle cramps': 37,\n",
       " 'symptom_fever, chills, sore throat, headache': 25,\n",
       " 'symptom_fever, chills, sore throat, runny nose, shortness of breath': 96,\n",
       " 'symptom_fever, cough': 1,\n",
       " 'symptom_fever, cough, breathlessness': 72,\n",
       " 'symptom_fever, cough, chills': 2,\n",
       " 'symptom_fever, cough, flu': 14,\n",
       " 'symptom_fever, cough, headache': 8,\n",
       " 'symptom_fever, cough, malaise': 9,\n",
       " 'symptom_fever, cough, runny nose': 62,\n",
       " 'symptom_fever, cough, shortness of breath': 92,\n",
       " 'symptom_fever, cough, sore throat': 12,\n",
       " 'symptom_fever, cough, sore throat, runny nose': 95,\n",
       " 'symptom_fever, cough, sputum': 18,\n",
       " 'symptom_fever, cough, sputum, dyspnea': 29,\n",
       " 'symptom_fever, cough, sputum, malaise': 19,\n",
       " 'symptom_fever, coughing, muscle aches': 1,\n",
       " 'symptom_fever, difficulty breathing': 26,\n",
       " 'symptom_fever, fatigue, cough, diarrhea': 52,\n",
       " 'symptom_fever, headache': 13,\n",
       " 'symptom_fever, headache, malaise': 40,\n",
       " 'symptom_fever, headache, malaise, joint pain': 57,\n",
       " 'symptom_fever, headache, runny nose': 34,\n",
       " 'symptom_fever, loss of appetite': 61,\n",
       " 'symptom_fever, malaise': 5,\n",
       " 'symptom_fever, malaise, diarrhea, cough': 21,\n",
       " 'symptom_fever, malaise, sore throat': 46,\n",
       " 'symptom_fever, muscle aches': 90,\n",
       " 'symptom_fever, myalgia, shortness of breath': 55,\n",
       " 'symptom_fever, nasal discharge, headache': 71,\n",
       " 'symptom_fever, pneumonia': 1,\n",
       " 'symptom_fever, respiratory distress': 56,\n",
       " 'symptom_fever, runny nose': 17,\n",
       " 'symptom_fever, sore throat': 4,\n",
       " 'symptom_fever, sore throat, cough': 81,\n",
       " 'symptom_fever, sore throat, malaise': 76,\n",
       " 'symptom_fever, thirst': 54,\n",
       " 'symptom_fever, vomiting, diarrhea': 89,\n",
       " 'symptom_flu symptoms': 47,\n",
       " 'symptom_headache': 86,\n",
       " 'symptom_headache, fever, malaise': 48,\n",
       " 'symptom_high fever, aching muscles': 16,\n",
       " 'symptom_high fever, chills, muscle pain': 75,\n",
       " 'symptom_joint pain, muscle pain, cough, malaise': 6,\n",
       " 'symptom_malaise, fever, headache': 58,\n",
       " 'symptom_mild cough, sputum, throat discomfort': 83,\n",
       " 'symptom_mild fever': 87,\n",
       " 'symptom_myalgia, fever': 1,\n",
       " 'symptom_nausea': 80,\n",
       " 'symptom_physical discomfort': 22,\n",
       " 'symptom_reflux': 32,\n",
       " 'symptom_runny nose': 42,\n",
       " 'symptom_runny nose, cough': 74,\n",
       " 'symptom_sore body': 15,\n",
       " 'symptom_sore throat': 10,\n",
       " 'symptom_sore throat, chills, myalgias, fever, cough': 1,\n",
       " 'symptom_sore throat, cough, fever': 93,\n",
       " 'symptom_sore throat, fever': 1,\n",
       " 'symptom_sore throat, fever, diarrhea': 68,\n",
       " 'symptom_sore throat, fever, joint pain, dyspnea': 44,\n",
       " 'symptom_throat discomfort': 33,\n",
       " 'symptom_throat discomfort, cough, chest pain': 69,\n",
       " 'symptom_throat pain, chills': 73,\n",
       " 'symptom_throat pain, fever': 53,\n",
       " 'symptom_tired': 1,\n",
       " 'symptom_vomiting, cough, fever, sore throat': 63,\n",
       " 'symptom_vomiting, diarrhea, fever, cough': 94}"
      ]
     },
     "execution_count": 10,
     "metadata": {},
     "output_type": "execute_result"
    }
   ],
   "source": [
    "res"
   ]
  },
  {
   "cell_type": "code",
   "execution_count": 11,
   "metadata": {},
   "outputs": [
    {
     "name": "stdout",
     "output_type": "stream",
     "text": [
      "Selected Number of Features: 15\n"
     ]
    }
   ],
   "source": [
    "d1 = {}\n",
    "for key, value in res.items():\n",
    "    if value == 1:\n",
    "        d1[key]=key\n",
    "print(\"Selected Number of Features:\",len(d1))"
   ]
  },
  {
   "cell_type": "code",
   "execution_count": 12,
   "metadata": {},
   "outputs": [],
   "source": [
    "selfeat=list(d1)"
   ]
  },
  {
   "cell_type": "code",
   "execution_count": 13,
   "metadata": {},
   "outputs": [],
   "source": [
    "sel_feats=df[['age','from_covid_zone',\n",
    "    'symptom_cold, fever, pneumonia',\n",
    " 'symptom_cough',\n",
    " 'symptom_cough, chills, shortness of breath, diarrhea',\n",
    " 'symptom_cough, shortness of breath',\n",
    " 'symptom_difficulty breathing',\n",
    " 'symptom_fatigue',\n",
    " 'symptom_feaver, cough, difficult in breathing',\n",
    " 'symptom_fever',\n",
    " 'symptom_fever, cough',\n",
    " 'symptom_fever, coughing, muscle aches',\n",
    " 'symptom_fever, pneumonia',\n",
    " 'symptom_myalgia, fever',\n",
    " 'symptom_sore throat, chills, myalgias, fever, cough',\n",
    " 'symptom_sore throat, fever',\n",
    " 'symptom_tired','result']]\n",
    "\n",
    "#sel_feats.to_csv(\"../dataset/settrain.csv\")"
   ]
  },
  {
   "cell_type": "code",
   "execution_count": 37,
   "metadata": {},
   "outputs": [],
   "source": [
    "newdata=pd.read_csv(\"../dataset/settrain.csv\")"
   ]
  },
  {
   "cell_type": "code",
   "execution_count": 38,
   "metadata": {},
   "outputs": [],
   "source": [
    "target=newdata['result']\n",
    "features=newdata.drop(['result'], axis=1)"
   ]
  },
  {
   "cell_type": "code",
   "execution_count": 39,
   "metadata": {},
   "outputs": [],
   "source": [
    "#decision tree classification\n",
    "from sklearn.tree import DecisionTreeClassifier # Import Decision Tree Classifier\n",
    "from sklearn.model_selection import train_test_split # Import train_test_split function\n",
    "from sklearn import metrics #Import scikit-learn metrics module for accuracy calculation\n",
    "from sklearn.metrics import confusion_matrix\n",
    "\n",
    "X_train, X_test, y_train, y_test = train_test_split(features, target, test_size=0.3, random_state=1)"
   ]
  },
  {
   "cell_type": "code",
   "execution_count": 40,
   "metadata": {},
   "outputs": [
    {
     "name": "stdout",
     "output_type": "stream",
     "text": [
      "PREDICTION\n",
      "[0 0 0 0 1 0 0 0 1 1 1 0 0 0 0 0 1 0 0 1 0 1 1 0 1 1 1 1 0 0 0 0 0 0 0 0 0\n",
      " 1 0 0 0 0 0 1 1 1 0 0 0 0 0 0 0 0 1 0 0 0 0 0 0 0 0 0 0 0 0 1 0 0 1 1 0 0\n",
      " 0 1 0 0 0 0 0 0 0 0 0 0 0 0 0 0 1 1 0 1 0 0 0 0 0 0 0 0 0 0 1 0 0 0 0 0 0\n",
      " 0 1 0 0 1 0 0 0 1 0 1 0 0 0 0 0 0 0 0 1 0 0 1 0 0 0 1 0 0 0 0 0 1 0 0 0 0\n",
      " 1 0 0 0 1 0 0 1 0 0 0 0 0 0 0 0 0 0 0 0 0 0 0 0 0 0 0 0 0 0 0 0 0 0 0 0 0\n",
      " 0 0 1 0 1 0 0 0 0 0 0 0 1 0 0 0 0 0 0 1 0 0 0 0 1 0 0 0 1 0 0 0 0 0 0 0 0\n",
      " 0 0 0 1 1 0 0 0 0 0 0 0 0 1 0 0 0 0 0 0 0 1 1 0 1 0 0 0 0 0 0 0 1 0 0 0 0\n",
      " 1 0 1 0 0 0 0 0 0 1 0 0 0 0 1 0 1 0 1 0 1 0 0 0 1 1 0 0 0 1 0 0 1 1 1 0 0\n",
      " 1 0 0 1 0 0 0 0 0 0 1 0 0 1 0 0 0 0 0 0 0 0 0 0 0 1 0 0 0 0]\n",
      "PERFORMANCE EVALUATION\n",
      "Accuracy: 0.7760736196319018\n"
     ]
    }
   ],
   "source": [
    "#Create Decision Tree classifer object\n",
    "clf = DecisionTreeClassifier()\n",
    "# Train Decision Tree Classifer\n",
    "clf = clf.fit(X_train,y_train)\n",
    "#Predict the response for test dataset\n",
    "y_pred_DT = clf.predict(X_test)\n",
    "\n",
    "print(\"PREDICTION\")\n",
    "print(y_pred_DT)\n",
    "\n",
    "print(\"PERFORMANCE EVALUATION\")\n",
    "print(\"Accuracy:\",metrics.accuracy_score(y_test, y_pred_DT))"
   ]
  },
  {
   "cell_type": "code",
   "execution_count": 41,
   "metadata": {},
   "outputs": [
    {
     "name": "stdout",
     "output_type": "stream",
     "text": [
      "PREDICTION\n",
      "[0 1 0 0 1 0 0 0 1 1 1 0 0 0 0 0 1 0 0 1 0 1 1 0 1 1 1 1 0 0 0 0 0 1 0 0 0\n",
      " 1 0 0 0 0 0 1 1 0 0 0 0 0 0 0 0 0 1 0 0 0 0 1 0 0 0 0 1 0 0 1 0 0 1 1 0 0\n",
      " 0 1 1 0 1 0 0 1 0 0 0 0 0 0 0 1 1 1 0 1 0 0 0 0 0 1 0 0 0 0 1 0 0 0 0 0 0\n",
      " 0 1 0 0 1 0 0 0 0 0 1 0 1 0 0 0 0 0 0 1 0 0 1 0 0 0 1 0 0 0 0 0 1 0 0 0 0\n",
      " 1 0 0 0 1 0 0 0 0 0 0 0 0 0 0 0 0 0 0 0 0 0 0 0 0 0 0 0 0 0 0 0 0 1 0 0 0\n",
      " 0 0 1 0 1 0 0 0 0 0 0 0 1 0 0 0 0 1 1 1 0 0 0 0 1 1 0 0 1 0 0 0 0 0 0 0 0\n",
      " 0 0 0 1 1 0 0 0 0 0 0 0 0 1 0 0 0 0 0 0 0 1 1 0 1 0 0 0 0 1 0 0 1 0 0 0 0\n",
      " 1 0 0 0 0 0 1 0 1 1 0 0 0 0 1 0 1 0 1 0 1 0 0 0 1 1 0 0 0 1 0 0 1 0 0 0 0\n",
      " 1 0 0 1 0 0 0 0 0 0 1 0 0 1 0 0 0 0 0 0 0 0 0 0 0 1 1 0 0 0]\n",
      "PERFORMANCE EVALUATION\n",
      "Accuracy: 0.7638036809815951\n"
     ]
    }
   ],
   "source": [
    "from sklearn.ensemble import RandomForestClassifier\n",
    "\n",
    "#Create a Gaussian Classifier\n",
    "rdm=RandomForestClassifier(n_estimators=100)\n",
    "#Train the model using the training sets y_pred=clf.predict(X_test)\n",
    "rdm.fit(X_train,y_train)\n",
    "#Predict the response for test dataset\n",
    "y_pred_RF=rdm.predict(X_test)\n",
    "\n",
    "print(\"PREDICTION\")\n",
    "print(y_pred_RF)\n",
    "\n",
    "print(\"PERFORMANCE EVALUATION\")\n",
    "print(\"Accuracy:\",metrics.accuracy_score(y_test, y_pred_RF))"
   ]
  },
  {
   "cell_type": "code",
   "execution_count": 42,
   "metadata": {},
   "outputs": [],
   "source": [
    "import pickle\n",
    "#dump on picle\n",
    "pickle.dump(svmcl, open('model.pkl','wb'))"
   ]
  },
  {
   "cell_type": "code",
   "execution_count": 43,
   "metadata": {},
   "outputs": [
    {
     "name": "stdout",
     "output_type": "stream",
     "text": [
      "Test\n",
      "PREDICTION\n",
      "[0 0 0 0 0 0 0 0 1 0 0 0 0 0 0 0 0 0 0 0 0 0 0 0 0 0 0 0 0 0 0 0 0 0 0 0 0\n",
      " 0 0 0 0 0 0 0 0 0 0 0 0 0 0 0 0 0 0 0 0 0 0 0 0 0 0 0 0 0 0 0 0 0 0 0 0 0\n",
      " 0 0 0 0 0 0 0 1 0 0 0 0 0 0 0 0 0 0 0 1 0 0 0 0 0 0 0 0 0 0 0 0 0 0 0 0 0\n",
      " 0 0 0 0 0 0 0 0 0 0 0 0 0 0 0 0 0 0 0 0 0 0 0 0 0 0 0 0 0 0 0 0 0 0 0 0 0\n",
      " 0 0 0 0 0 0 0 0 0 0 0 0 0 0 0 0 0 0 0 0 0 0 0 0 0 0 0 0 0 0 0 0 0 1 0 0 0\n",
      " 0 0 0 0 0 0 0 0 0 0 0 0 0 0 0 0 0 0 0 0 0 0 0 0 0 0 0 0 0 0 0 0 0 0 0 0 0\n",
      " 0 0 0 0 0 0 0 0 0 0 0 0 0 0 0 0 0 0 0 0 0 0 0 0 0 0 0 0 0 0 0 0 0 0 0 0 0\n",
      " 0 0 0 0 0 0 0 0 0 0 0 0 0 0 0 0 0 0 0 0 0 0 0 0 1 0 0 0 0 0 0 0 0 0 0 0 0\n",
      " 1 0 0 0 0 0 0 0 0 0 0 0 0 0 0 0 0 0 0 0 0 0 0 0 0 0 0 0 0 0]\n",
      "\n",
      "\n",
      "\n",
      "PERFORMANCE EVALUATION\n",
      "Accuracy: 0.7361963190184049\n"
     ]
    }
   ],
   "source": [
    "from sklearn import svm\n",
    "\n",
    "svmcl = svm.SVC(kernel='linear') # Linear Kernel\n",
    "#Train the model using the training sets\n",
    "svmcl.fit(X_train, y_train)\n",
    "#Predict the response for test dataset\n",
    "y_pred_SVM = svmcl.predict(X_test)\n",
    "\n",
    "print(\"Test\")\n",
    "X_test1=pd.DataFrame(X_test)\n",
    "\n",
    "\n",
    "print(\"PREDICTION\")\n",
    "print(y_pred_SVM)\n",
    "print(\"\\n\\n\")\n",
    "\n",
    "print(\"PERFORMANCE EVALUATION\")\n",
    "# Model Accuracy, how often is the classifier correct?\n",
    "print(\"Accuracy:\",metrics.accuracy_score(y_test, y_pred_SVM))"
   ]
  },
  {
   "cell_type": "code",
   "execution_count": 44,
   "metadata": {},
   "outputs": [
    {
     "name": "stdout",
     "output_type": "stream",
     "text": [
      "PREDICTION\n",
      "[0 0 0 0 0 0 0 0 1 1 0 0 0 0 1 0 0 1 0 1 0 1 0 0 1 0 1 1 0 0 1 0 1 0 0 0 0\n",
      " 1 0 0 0 0 0 1 0 0 0 0 0 0 0 0 0 0 1 0 0 0 0 0 0 0 0 0 0 0 0 0 0 0 0 1 0 0\n",
      " 0 0 1 0 0 0 1 1 0 0 0 0 0 1 0 1 0 1 0 1 0 0 0 0 0 1 0 0 0 0 1 0 0 0 0 1 1\n",
      " 0 0 0 0 0 0 0 0 1 0 0 0 0 0 0 0 0 0 0 1 0 0 0 0 0 1 1 0 0 0 1 0 1 0 0 1 0\n",
      " 0 0 0 0 1 1 0 0 0 0 1 0 0 0 1 0 0 1 0 1 0 0 0 0 0 0 1 1 0 0 1 0 0 1 0 0 0\n",
      " 0 0 1 0 0 0 0 0 0 0 0 0 0 0 0 0 0 0 0 0 0 0 0 0 0 0 1 0 1 0 1 0 0 0 0 0 0\n",
      " 1 0 0 0 0 0 0 0 0 0 0 0 0 1 1 0 0 0 0 0 1 1 0 1 1 1 0 0 0 0 0 0 0 0 0 0 1\n",
      " 1 0 0 0 0 0 1 1 0 0 0 1 0 0 1 0 1 0 0 0 0 0 0 0 1 0 0 0 0 0 0 0 1 0 1 0 0\n",
      " 1 0 0 1 0 0 0 0 0 0 1 0 0 0 0 0 0 0 0 0 1 1 0 0 1 0 0 1 0 0]\n",
      "\n",
      "\n",
      "\n",
      "PERFORMANCE EVALUATION\n",
      "Accuracy: 0.7300613496932515\n"
     ]
    }
   ],
   "source": [
    "from sklearn.naive_bayes import GaussianNB\n",
    "\n",
    "#Create a Gaussian Classifier\n",
    "gnb = GaussianNB()\n",
    "#Train the model using the training sets\n",
    "gnb.fit(X_train, y_train)\n",
    "#Predict the response for test dataset\n",
    "y_pred_NB=gnb.predict(X_test)\n",
    "\n",
    "print(\"PREDICTION\")\n",
    "print(y_pred_NB)\n",
    "print(\"\\n\\n\")\n",
    "\n",
    "print(\"PERFORMANCE EVALUATION\")\n",
    "# Model Accuracy, how often is the classifier correct?\n",
    "print(\"Accuracy:\",metrics.accuracy_score(y_test, y_pred_NB))"
   ]
  },
  {
   "cell_type": "code",
   "execution_count": 47,
   "metadata": {},
   "outputs": [],
   "source": [
    "df=pd.DataFrame(X_train)"
   ]
  },
  {
   "cell_type": "code",
   "execution_count": 46,
   "metadata": {},
   "outputs": [
    {
     "name": "stdout",
     "output_type": "stream",
     "text": [
      "PREDICTION\n",
      "[0 0 0 0 0 0 0 0 0 1 0 0 0 0 0 0 0 0 0 1 0 0 0 0 1 0 1 1 0 0 0 0 0 0 0 0 0\n",
      " 0 0 0 0 0 0 1 0 0 0 0 0 0 0 0 0 0 0 0 0 0 0 0 0 0 0 0 0 0 0 0 0 0 0 1 0 0\n",
      " 0 0 1 0 0 0 0 1 0 0 0 0 0 0 0 1 0 0 0 1 0 0 0 0 0 1 0 0 0 0 0 0 0 0 0 0 0\n",
      " 0 0 0 0 0 0 0 0 0 0 0 0 0 0 0 0 0 0 0 1 0 0 0 0 0 0 0 0 0 0 0 0 1 0 0 0 0\n",
      " 0 0 0 0 0 0 0 0 0 0 0 0 0 0 0 0 0 0 0 0 0 0 0 0 0 0 0 0 0 0 0 0 0 1 0 0 0\n",
      " 0 0 0 0 0 0 0 0 0 0 0 0 0 0 0 0 0 0 0 0 0 0 0 0 0 0 0 0 1 0 0 0 0 0 0 0 0\n",
      " 0 0 0 0 0 0 0 0 0 0 0 0 0 0 0 0 0 0 0 0 0 1 0 0 0 0 0 0 0 0 0 0 0 0 0 0 0\n",
      " 0 0 0 0 0 0 0 0 0 0 0 0 0 0 1 0 0 0 0 0 0 0 0 0 1 0 0 0 0 0 0 0 1 0 0 0 0\n",
      " 1 0 0 1 0 0 0 0 0 0 0 0 0 0 0 0 0 0 0 0 0 0 0 0 0 0 0 0 0 0]\n",
      "\n",
      "\n",
      "\n",
      "PERFORMANCE EVALUATION\n",
      "Accuracy: 0.7730061349693251\n"
     ]
    }
   ],
   "source": [
    "from sklearn.linear_model import LogisticRegression\n",
    "from sklearn.pipeline import make_pipeline\n",
    "from sklearn.preprocessing import StandardScaler\n",
    "\n",
    "pipe = make_pipeline(StandardScaler(), LogisticRegression())\n",
    "pipe.fit(X_train, y_train)\n",
    "y_pred_LR=pipe.predict(X_test)\n",
    "\n",
    "\n",
    "print(\"PREDICTION\")\n",
    "print(y_pred_LR)\n",
    "print(\"\\n\\n\")\n",
    "\n",
    "print(\"PERFORMANCE EVALUATION\")\n",
    "# Model Accuracy, how often is the classifier correct?\n",
    "print(\"Accuracy:\",metrics.accuracy_score(y_test, y_pred_LR))"
   ]
  }
 ],
 "metadata": {
  "kernelspec": {
   "display_name": "Python 3",
   "language": "python",
   "name": "python3"
  },
  "language_info": {
   "codemirror_mode": {
    "name": "ipython",
    "version": 3
   },
   "file_extension": ".py",
   "mimetype": "text/x-python",
   "name": "python",
   "nbconvert_exporter": "python",
   "pygments_lexer": "ipython3",
   "version": "3.7.4"
  }
 },
 "nbformat": 4,
 "nbformat_minor": 2
}
